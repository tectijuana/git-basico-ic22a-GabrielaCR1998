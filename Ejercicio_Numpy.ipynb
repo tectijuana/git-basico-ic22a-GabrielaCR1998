{
  "nbformat": 4,
  "nbformat_minor": 0,
  "metadata": {
    "colab": {
      "name": "Ejercicio Numpy",
      "provenance": []
    },
    "kernelspec": {
      "name": "python3",
      "display_name": "Python 3"
    },
    "language_info": {
      "name": "python"
    }
  },
  "cells": [
    {
      "cell_type": "markdown",
      "source": [
        "Importar librerias"
      ],
      "metadata": {
        "id": "sT5aKg8obA-E"
      }
    },
    {
      "cell_type": "code",
      "execution_count": 17,
      "metadata": {
        "id": "gjCrcQV9a8dO"
      },
      "outputs": [],
      "source": [
        "import numpy as np\n",
        "import matplotlib.pyplot as plt\n",
        "import matplotlib.pyplot as plt\n",
        "%matplotlib inline"
      ]
    },
    {
      "cell_type": "markdown",
      "source": [
        "crear un array a partir de una lista"
      ],
      "metadata": {
        "id": "QePUZYaex7YF"
      }
    },
    {
      "cell_type": "code",
      "source": [
        "lista= np.array([2, 5, 6, 23])\n",
        "print(lista)"
      ],
      "metadata": {
        "colab": {
          "base_uri": "https://localhost:8080/"
        },
        "id": "HF6Z1iJwx9TW",
        "outputId": "6a0aaf33-7529-47cf-d6b2-7953a14d1ed3"
      },
      "execution_count": 5,
      "outputs": [
        {
          "output_type": "stream",
          "name": "stdout",
          "text": [
            "[ 2  5  6 23]\n"
          ]
        }
      ]
    },
    {
      "cell_type": "markdown",
      "source": [
        "crear arrays con secuencias de números"
      ],
      "metadata": {
        "id": "W_0grfE3yxXx"
      }
    },
    {
      "cell_type": "code",
      "source": [
        "print(np.arange(start=2, stop=10, step=2))"
      ],
      "metadata": {
        "colab": {
          "base_uri": "https://localhost:8080/"
        },
        "id": "b_dLdVwlyL5-",
        "outputId": "bcfcf2b5-4742-4333-8c0d-a8b6fe4d62a4"
      },
      "execution_count": 4,
      "outputs": [
        {
          "output_type": "stream",
          "name": "stdout",
          "text": [
            "[2 4 6 8]\n"
          ]
        }
      ]
    },
    {
      "cell_type": "code",
      "source": [
        "print(np.linspace(start=11, stop=12, num=18))"
      ],
      "metadata": {
        "colab": {
          "base_uri": "https://localhost:8080/"
        },
        "id": "I0tGjA6IybXg",
        "outputId": "15692ea7-7ace-4804-a97d-61e03ccb4958"
      },
      "execution_count": 6,
      "outputs": [
        {
          "output_type": "stream",
          "name": "stdout",
          "text": [
            "[11.         11.05882353 11.11764706 11.17647059 11.23529412 11.29411765\n",
            " 11.35294118 11.41176471 11.47058824 11.52941176 11.58823529 11.64705882\n",
            " 11.70588235 11.76470588 11.82352941 11.88235294 11.94117647 12.        ]\n"
          ]
        }
      ]
    },
    {
      "cell_type": "markdown",
      "source": [
        "crear arreglos con valores pre-definidos"
      ],
      "metadata": {
        "id": "xfF2ggBbzbLA"
      }
    },
    {
      "cell_type": "code",
      "source": [
        "print(np.zeros((2, 2)))"
      ],
      "metadata": {
        "colab": {
          "base_uri": "https://localhost:8080/"
        },
        "id": "LLsUoP_0zdPD",
        "outputId": "1d06b78a-a632-4478-e92c-337ce37e2a94"
      },
      "execution_count": 7,
      "outputs": [
        {
          "output_type": "stream",
          "name": "stdout",
          "text": [
            "[[0. 0.]\n",
            " [0. 0.]]\n"
          ]
        }
      ]
    },
    {
      "cell_type": "code",
      "source": [
        "print(np.ones(6))"
      ],
      "metadata": {
        "colab": {
          "base_uri": "https://localhost:8080/"
        },
        "id": "TrNiWXf8zhGK",
        "outputId": "7cbaf277-fc87-4648-e5fa-fea6782c19ce"
      },
      "execution_count": 14,
      "outputs": [
        {
          "output_type": "stream",
          "name": "stdout",
          "text": [
            "[1. 1. 1. 1. 1. 1.]\n"
          ]
        }
      ]
    },
    {
      "cell_type": "markdown",
      "source": [
        "Crea un array con un valor en específico"
      ],
      "metadata": {
        "id": "ieTcy-UvzrKi"
      }
    },
    {
      "cell_type": "code",
      "source": [
        "print(np.full(shape=(2, 2), fill_value=5))"
      ],
      "metadata": {
        "colab": {
          "base_uri": "https://localhost:8080/"
        },
        "id": "ZQ5MZvhtzsEr",
        "outputId": "113287b3-41e9-4de5-f75a-a2c969181e17"
      },
      "execution_count": 9,
      "outputs": [
        {
          "output_type": "stream",
          "name": "stdout",
          "text": [
            "[[5 5]\n",
            " [5 5]]\n"
          ]
        }
      ]
    },
    {
      "cell_type": "markdown",
      "source": [
        "Funciones matemáticas"
      ],
      "metadata": {
        "id": "pTxQjKrnz3uT"
      }
    },
    {
      "cell_type": "code",
      "source": [
        "a = np.array([[1, 2, 3], [4, 5, 6]])\n",
        "b = np.array([[1, 1, 1], [2, 2, 2]])\n",
        "print(a + b )\n",
        "\n",
        "print(a / b)\n",
        "\n",
        "print(a ** 2)"
      ],
      "metadata": {
        "colab": {
          "base_uri": "https://localhost:8080/"
        },
        "id": "2LEwdICN0pZE",
        "outputId": "d17e803c-018c-46c5-c271-f970249d1c9f"
      },
      "execution_count": 16,
      "outputs": [
        {
          "output_type": "stream",
          "name": "stdout",
          "text": [
            "[[2 3 4]\n",
            " [6 7 8]]\n",
            "[[1.  2.  3. ]\n",
            " [2.  2.5 3. ]]\n",
            "[[ 1  4  9]\n",
            " [16 25 36]]\n"
          ]
        }
      ]
    },
    {
      "cell_type": "markdown",
      "source": [
        "Estadisticas"
      ],
      "metadata": {
        "id": "zWfLZfg81ipE"
      }
    },
    {
      "cell_type": "code",
      "source": [
        "height_list = [74, 74, 72, 72, 73, 69, 69, 71, 76, 71, 73, 73, 74, 74, 69, 70, 73, 75, 78, 79, 76, 74, 76, 72, 71, 75]\n",
        "print(np.mean(height_list)) # media\n",
        "\n",
        "print(np.median(height_list)) # mediana\n",
        "\n",
        "print(np.std(height_list)) # desviación estándar\n",
        "\n",
        "print(np.max(height_list)) # máximo\n",
        "\n",
        "print(np.min(height_list)) # mínimo"
      ],
      "metadata": {
        "colab": {
          "base_uri": "https://localhost:8080/"
        },
        "id": "xqGcMEfj1kej",
        "outputId": "78c3359d-788d-4e7c-963a-67a69c0a3af2"
      },
      "execution_count": 15,
      "outputs": [
        {
          "output_type": "stream",
          "name": "stdout",
          "text": [
            "73.1923076923077\n",
            "73.0\n",
            "2.572326554954764\n",
            "79\n",
            "69\n"
          ]
        }
      ]
    },
    {
      "cell_type": "markdown",
      "source": [
        "Graficar"
      ],
      "metadata": {
        "id": "uC5hxIGG2frS"
      }
    },
    {
      "cell_type": "code",
      "source": [
        "plt.figure(figsize = (8,4)) # Establecer tamaño de imagen\n",
        "plt.xlabel('Eje X') #x Nombre del eje\n",
        "plt.ylabel('Eje Y') # nombre de eje\n",
        "plt.title('Ejemplo')# Título\n",
        "plt.show()#Visualizar resultados de dibujo"
      ],
      "metadata": {
        "colab": {
          "base_uri": "https://localhost:8080/",
          "height": 295
        },
        "id": "B_fIcrgb4Ga_",
        "outputId": "d14af9df-776b-4033-b052-c63b1813928c"
      },
      "execution_count": 26,
      "outputs": [
        {
          "output_type": "display_data",
          "data": {
            "text/plain": [
              "<Figure size 576x288 with 1 Axes>"
            ],
            "image/png": "[encoded data removed]"
          },
          "metadata": {
            "needs_background": "light"
          }
        }
      ]
    },
    {
      "cell_type": "code",
      "source": [
        "x = np.linspace(-1,2)              # malla\n",
        "f = lambda x : x**3 - 2*x**2 + 1   # función \n",
        "OX = 0*x                           # eje OX"
      ],
      "metadata": {
        "id": "MLJYOWDv2_X6"
      },
      "execution_count": 18,
      "outputs": []
    },
    {
      "cell_type": "code",
      "source": [
        "plt.figure()\n",
        "plt.plot(x,f(x))                   # dibujar la función\n",
        "plt.plot(x,OX,'k-')                # dibujar el eje X\n",
        "plt.xlabel('x')\n",
        "plt.ylabel('y')\n",
        "plt.title('función')\n",
        "plt.show()"
      ],
      "metadata": {
        "colab": {
          "base_uri": "https://localhost:8080/",
          "height": 295
        },
        "id": "nsLHkion3P4n",
        "outputId": "47c3f145-6524-4568-fa10-fa832b0c8b0e"
      },
      "execution_count": 19,
      "outputs": [
        {
          "output_type": "display_data",
          "data": {
            "text/plain": [
              "<Figure size 432x288 with 1 Axes>"
            ],
            "image/png": "[encoded data removed]"
          },
          "metadata": {
            "needs_background": "light"
          }
        }
      ]
    }
  ]
}